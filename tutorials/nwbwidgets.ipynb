{
 "cells": [
  {
   "cell_type": "code",
   "execution_count": 1,
   "metadata": {},
   "outputs": [],
   "source": [
    "import pynwb\n",
    "from pynwb import NWBHDF5IO\n",
    "from nwbwidgets import nwb2widget"
   ]
  },
  {
   "cell_type": "code",
   "execution_count": 2,
   "metadata": {},
   "outputs": [],
   "source": [
    "#fpath = '/Users/bendichter/Desktop/Axel Lab/data/file_1.nwb'\n",
    "fpath = '/Users/bendichter/Desktop/Axel Lab/data/2019_07_01_fly2/fly2.nwb'"
   ]
  },
  {
   "cell_type": "code",
   "execution_count": 3,
   "metadata": {},
   "outputs": [
    {
     "name": "stderr",
     "output_type": "stream",
     "text": [
      "/Users/bendichter/opt/anaconda3/lib/python3.7/site-packages/hdmf/spec/namespace.py:457: UserWarning:\n",
      "\n",
      "ignoring namespace 'hdmf-common' because it already exists\n",
      "\n",
      "/Users/bendichter/opt/anaconda3/lib/python3.7/site-packages/hdmf/spec/namespace.py:457: UserWarning:\n",
      "\n",
      "ignoring namespace 'core' because it already exists\n",
      "\n"
     ]
    }
   ],
   "source": [
    "nwb_io = NWBHDF5IO(fpath, mode='r', load_namespaces=True)\n",
    "nwb = nwb_io.read()"
   ]
  },
  {
   "cell_type": "code",
   "execution_count": 4,
   "metadata": {
    "scrolled": false
   },
   "outputs": [
    {
     "data": {
      "application/vnd.jupyter.widget-view+json": {
       "model_id": "c4b853bd429a45d58688abcee41ff515",
       "version_major": 2,
       "version_minor": 0
      },
      "text/plain": [
       "VBox(children=(HBox(children=(Label(value='session_description:', layout=Layout(max_height='40px', max_width='…"
      ]
     },
     "metadata": {},
     "output_type": "display_data"
    },
    {
     "name": "stderr",
     "output_type": "stream",
     "text": [
      "/Users/bendichter/opt/anaconda3/lib/python3.7/site-packages/ipyvolume/widgets.py:179: FutureWarning:\n",
      "\n",
      "Using a non-tuple sequence for multidimensional indexing is deprecated; use `arr[tuple(seq)]` instead of `arr[seq]`. In the future this will be interpreted as an array index, `arr[np.array(seq)]`, which will result either in an error or a different result.\n",
      "\n",
      "/Users/bendichter/opt/anaconda3/lib/python3.7/site-packages/ipyvolume/utils.py:204: FutureWarning:\n",
      "\n",
      "Using a non-tuple sequence for multidimensional indexing is deprecated; use `arr[tuple(seq)]` instead of `arr[seq]`. In the future this will be interpreted as an array index, `arr[np.array(seq)]`, which will result either in an error or a different result.\n",
      "\n",
      "/Users/bendichter/opt/anaconda3/lib/python3.7/site-packages/ipyvolume/serialize.py:81: RuntimeWarning:\n",
      "\n",
      "invalid value encountered in true_divide\n",
      "\n"
     ]
    }
   ],
   "source": [
    "nwb2widget(nwb)"
   ]
  },
  {
   "cell_type": "code",
   "execution_count": null,
   "metadata": {},
   "outputs": [],
   "source": []
  }
 ],
 "metadata": {
  "kernelspec": {
   "display_name": "Python 3",
   "language": "python",
   "name": "python3"
  },
  "language_info": {
   "codemirror_mode": {
    "name": "ipython",
    "version": 3
   },
   "file_extension": ".py",
   "mimetype": "text/x-python",
   "name": "python",
   "nbconvert_exporter": "python",
   "pygments_lexer": "ipython3",
   "version": "3.7.4"
  }
 },
 "nbformat": 4,
 "nbformat_minor": 2
}
